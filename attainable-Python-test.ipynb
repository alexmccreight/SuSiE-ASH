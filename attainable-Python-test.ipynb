{
 "cells": [
  {
   "cell_type": "code",
   "execution_count": 10,
   "metadata": {},
   "outputs": [
    {
     "name": "stdout",
     "output_type": "stream",
     "text": [
      "Attainable coverage for effect groups: [1.53 1.3  0.74]\n",
      "Gamma values:\n",
      "[[0.09784297 0.62761396 0.27454307]\n",
      " [0.729092   0.13546541 0.13544259]\n",
      " [0.02001195 0.67261832 0.30736973]\n",
      " [0.25890493 0.00437364 0.73672143]\n",
      " [0.80260249 0.10723697 0.09016054]]\n",
      "Effective variants:\n",
      "{0: array([4, 1]), 1: array([2, 0])}\n",
      "Effective gamma values:\n",
      "{0: array([0.8026, 0.7291]), 1: array([0.6726, 0.6276])}\n"
     ]
    }
   ],
   "source": [
    "import numpy as np\n",
    "from scipy.stats import entropy\n",
    "\n",
    "class SparsePro:\n",
    "    def __init__(self, P, K):\n",
    "        self.p = P\n",
    "        self.k = K\n",
    "        self.gamma = np.zeros((self.p, self.k))\n",
    "\n",
    "    def get_effect(self, cthres=0.95, ethres=20):\n",
    "        vidx = np.argsort(-self.gamma, axis=1)\n",
    "        matidx = np.argsort(-self.gamma, axis=0)\n",
    "        mat_eff = np.zeros((self.p, self.k))  # effective gamma\n",
    "        for p in range(self.p):\n",
    "            mat_eff[p, vidx[p, 0]] = self.gamma[p, vidx[p, 0]]\n",
    "        csum = mat_eff.sum(axis=0).round(2)\n",
    "        print(\"Attainable coverage for effect groups: {}\".format(csum))  # statistical evidence\n",
    "        eff = {}\n",
    "        eff_gamma = {}\n",
    "        for k in range(self.k):\n",
    "            if csum[k] > cthres:\n",
    "                if entropy(mat_eff[:, k]) < np.log(ethres):\n",
    "                    for p in range(self.p):\n",
    "                        if np.sum(mat_eff[matidx[0:p, k], k]) > cthres * csum[k] or mat_eff[matidx[p, k], k] < 0.01:\n",
    "                            eff[k] = matidx[0:p, k]\n",
    "                            eff_gamma[k] = mat_eff[eff[k], k].round(4)\n",
    "                            break\n",
    "        return eff, eff_gamma\n",
    "\n",
    "# Create an instance of SparsePro\n",
    "model = SparsePro(P=5, K=3)\n",
    "\n",
    "# Generate random gamma values\n",
    "np.random.seed(42)  # Set seed for reproducibility\n",
    "gamma_values = np.random.dirichlet(np.ones(model.k), size=model.p)\n",
    "model.gamma = gamma_values\n",
    "\n",
    "# Call the get_effect method\n",
    "eff, eff_gamma = model.get_effect(cthres=0.95, ethres=20)\n",
    "\n",
    "# Print the results\n",
    "print(\"Gamma values:\")\n",
    "print(model.gamma)\n",
    "print(\"Effective variants:\")\n",
    "print(eff)\n",
    "print(\"Effective gamma values:\")\n",
    "print(eff_gamma)"
   ]
  }
 ],
 "metadata": {
  "kernelspec": {
   "display_name": "Python 3",
   "language": "python",
   "name": "python3"
  },
  "language_info": {
   "codemirror_mode": {
    "name": "ipython",
    "version": 3
   },
   "file_extension": ".py",
   "mimetype": "text/x-python",
   "name": "python",
   "nbconvert_exporter": "python",
   "pygments_lexer": "ipython3",
   "version": "3.10.12"
  }
 },
 "nbformat": 4,
 "nbformat_minor": 2
}
